{
 "cells": [
  {
   "cell_type": "code",
   "execution_count": 2,
   "id": "596151b9-afe6-4055-8f3e-3c50ea185f13",
   "metadata": {},
   "outputs": [],
   "source": [
    "from ase.io import read, write\n",
    "from ase.build import bcc110, fcc111, hcp0001, fcc100,fcc110, fcc211,hcp10m10\n",
    "from ase.visualize import view\n",
    "from ase import Atoms\n",
    "from ase.build import fcc111, add_adsorbate\n",
    "from ase.build import molecule"
   ]
  },
  {
   "cell_type": "code",
   "execution_count": 3,
   "id": "edbc9f1f-19cc-4d7d-83ba-c1082b14f229",
   "metadata": {},
   "outputs": [],
   "source": [
    "slab = fcc111('Ag', a=4.0660836556907070, size=(3,3,5))\n",
    "slab.center(vacuum=8, axis=2)\n",
    "add_adsorbate(slab, 'H', 8, (5.75031,   7.10168))\n",
    "add_adsorbate(slab, 'H', 8, (1.43758,   0.36819))\n",
    "write('Ag111_gp.vasp', slab,  direct=True,  vasp5=True)"
   ]
  },
  {
   "cell_type": "code",
   "execution_count": 4,
   "id": "01615d03-b7f3-4142-a934-92420c6519c3",
   "metadata": {},
   "outputs": [],
   "source": [
    "slab = fcc111('Ag', a=4.0660836556907070, size=(3,3,5))\n",
    "slab.center(vacuum=8, axis=2)\n",
    "add_adsorbate(slab, 'H', 1.2, (1.43758,   0.60311))\n",
    "add_adsorbate(slab, 'H', 1.2, (5.75031,   6.86676))\n",
    "write('Ag111_ts.vasp', slab,  direct=True,  vasp5=True)"
   ]
  },
  {
   "cell_type": "code",
   "execution_count": 17,
   "id": "86868860-30b8-47ae-8d8e-36a6ab0cf133",
   "metadata": {},
   "outputs": [],
   "source": [
    "slab = fcc100('Cu', a=3.5490821086197832, size=(3,3,5))\n",
    "slab.center(vacuum=7, axis=2)\n",
    "add_adsorbate(slab, 'H', 7, (1.25479,   7.16125))\n",
    "add_adsorbate(slab, 'H', 7, (1.25479,   0.36749))\n",
    "write('Cu100_gp.vasp', slab,  direct=True,  vasp5=True)"
   ]
  },
  {
   "cell_type": "code",
   "execution_count": 18,
   "id": "71179f40-9efd-41c8-a2b7-be91523152bb",
   "metadata": {},
   "outputs": [],
   "source": [
    "slab = fcc100('Cu', a=3.5490821086197832, size=(3,3,5))\n",
    "slab.center(vacuum=7, axis=2)\n",
    "add_adsorbate(slab, 'H', 1.2, (1.25479,   6.92679))\n",
    "add_adsorbate(slab, 'H', 1.2, (1.25479,   0.60195))\n",
    "write('Cu100_ts.vasp', slab,  direct=True,  vasp5=True)"
   ]
  },
  {
   "cell_type": "code",
   "execution_count": 22,
   "id": "34ff72b7-ff9e-4c96-a568-f1a7400c5ab5",
   "metadata": {},
   "outputs": [],
   "source": [
    "slab = fcc110('Cu', a=3.5490821086197832, size=(3,2,5))\n",
    "slab.center(vacuum=7, axis=2)\n",
    "add_adsorbate(slab, 'H', 6.85, (0.49544,   0.80355))\n",
    "add_adsorbate(slab, 'H', 6.85, (10.15181,   0.80355))\n",
    "write('Cu110_gp.vasp', slab,  direct=True,  vasp5=True)"
   ]
  },
  {
   "cell_type": "code",
   "execution_count": 23,
   "id": "2f2f49a6-b6d2-42e8-b7c5-1bd144bfce15",
   "metadata": {},
   "outputs": [],
   "source": [
    "slab = fcc110('Cu', a=3.5490821086197832, size=(3,2,5))\n",
    "slab.center(vacuum=7, axis=2)\n",
    "add_adsorbate(slab, 'H', 1, (10.45354,   0.83653))\n",
    "add_adsorbate(slab, 'H', 0.5, (1.41713,   0.83652))\n",
    "write('Cu110_ts.vasp', slab,  direct=True,  vasp5=True)"
   ]
  },
  {
   "cell_type": "code",
   "execution_count": 24,
   "id": "4ecc85ed-c705-45dd-abd8-202ecd52d41e",
   "metadata": {},
   "outputs": [],
   "source": [
    "slab = fcc111('Cu', a=3.5490821086197832, size=(3,3,5))\n",
    "slab.center(vacuum=7, axis=2)\n",
    "add_adsorbate(slab, 'H', 6.2, ( 1.28198,   0.37545))\n",
    "add_adsorbate(slab, 'H', 6.2, (5.04635,   6.14463))\n",
    "write('Cu111_gp.vasp', slab,  direct=True,  vasp5=True)"
   ]
  },
  {
   "cell_type": "code",
   "execution_count": 25,
   "id": "fd1128a8-c719-43ad-8453-c03be252b07c",
   "metadata": {},
   "outputs": [],
   "source": [
    "slab = fcc111('Cu', a=3.5490821086197832, size=(3,3,5))\n",
    "slab.center(vacuum=7, axis=2)\n",
    "add_adsorbate(slab, 'H', 0.8, ( 1.28198,   0.51500))\n",
    "add_adsorbate(slab, 'H', 0.8, ( 5.04635,   6.00508))\n",
    "write('Cu111_ts.vasp', slab,  direct=True,  vasp5=True)"
   ]
  },
  {
   "cell_type": "code",
   "execution_count": 38,
   "id": "6f7411da-9523-4985-8666-10c573eeb84e",
   "metadata": {},
   "outputs": [],
   "source": [
    "slab = fcc111('Ir', a=3.7987397678984935, size=(3,3,5))\n",
    "slab.center(vacuum=13, axis=2)\n",
    "atoms = molecule('CH4')\n",
    "atoms.rotate(45, 'yz', center=(0, 0, 0))\n",
    "atoms.rotate(45, 'x', center=(0, 0, 0))\n",
    "add_adsorbate(slab, atoms, 13, ( 4.02917 ,  2.32624))\n",
    "write('Ir111_ch4_gp.vasp', slab,  direct=True,  vasp5=True)"
   ]
  },
  {
   "cell_type": "code",
   "execution_count": 44,
   "id": "3a6dbc3c-534c-4804-9caf-2c385847c3ea",
   "metadata": {},
   "outputs": [],
   "source": [
    "slab = fcc111('Ir', a=3.7987397678984935, size=(3,3,5))\n",
    "slab.center(vacuum=13, axis=2)\n",
    "atoms = molecule('CH3')\n",
    "add_adsorbate(slab, atoms, 2, ( 4.42917 ,  2.32624))\n",
    "add_adsorbate(slab, 'H', 1.2, ( 3.12917 ,  2.32624))\n",
    "write('Ir111_ch4_ts.vasp', slab,  direct=True,  vasp5=True)"
   ]
  },
  {
   "cell_type": "code",
   "execution_count": 45,
   "id": "91064b60-e9f9-4e22-8d8f-abe0a5507bf9",
   "metadata": {},
   "outputs": [],
   "source": [
    "slab = fcc100('Ni', a=3.4627689236249095, size=(3,3,4))\n",
    "slab.center(vacuum=7, axis=2)\n",
    "atoms = molecule('CH4')\n",
    "atoms.rotate(45, 'yz', center=(0, 0, 0))\n",
    "atoms.rotate(45, 'x', center=(0, 0, 0))\n",
    "add_adsorbate(slab, atoms, 7, (2.44855,   2.44855))\n",
    "write('Ni100_ch4_gp.vasp', slab,  direct=True,  vasp5=True)"
   ]
  },
  {
   "cell_type": "code",
   "execution_count": 52,
   "id": "93c19b6e-c9d4-444d-ae09-ce1cef8987be",
   "metadata": {},
   "outputs": [],
   "source": [
    "slab = fcc100('Ni', a=3.4627689236249095, size=(3,3,4))\n",
    "slab.center(vacuum=7, axis=2)\n",
    "atoms = molecule('CH3')\n",
    "add_adsorbate(slab, atoms, 1.5, ( 3.04855,   2.44855))\n",
    "add_adsorbate(slab, 'H', 1.2, ( 1.44855,   2.44855))\n",
    "write('Ni100_ch4_ts.vasp', slab,  direct=True,  vasp5=True)"
   ]
  },
  {
   "cell_type": "code",
   "execution_count": 53,
   "id": "047cb34a-50e9-47e3-abe0-440c9aadd151",
   "metadata": {},
   "outputs": [],
   "source": [
    "slab = fcc111('Ni', a=3.4627689236249095, size=(3,3,4))\n",
    "slab.center(vacuum=7, axis=2)\n",
    "atoms = molecule('CH4')\n",
    "atoms.rotate(45, 'yz', center=(0, 0, 0))\n",
    "atoms.rotate(45, 'x', center=(0, 0, 0))\n",
    "add_adsorbate(slab, atoms, 7, (3.67282,   2.12050))\n",
    "write('Ni111_ch4_gp.vasp', slab,  direct=True,  vasp5=True)"
   ]
  },
  {
   "cell_type": "code",
   "execution_count": 61,
   "id": "5a96d8e4-0d5e-4a09-a4b9-7cd6cc587274",
   "metadata": {},
   "outputs": [],
   "source": [
    "slab = fcc111('Ni', a=3.4627689236249095, size=(3,3,4))\n",
    "slab.center(vacuum=7, axis=2)\n",
    "atoms = molecule('CH3')\n",
    "atoms.rotate(45, 'z', center=(0, 0, 0))\n",
    "add_adsorbate(slab, atoms, 2., ( 3.97282,   2.42050))\n",
    "add_adsorbate(slab, 'H', 1.2, (  2.84855,   1.81367))\n",
    "write('Ni111_ch4_ts.vasp', slab,  direct=True,  vasp5=True)"
   ]
  },
  {
   "cell_type": "code",
   "execution_count": 65,
   "id": "a13b52f6-8fa7-4270-afe3-551a6a639462",
   "metadata": {},
   "outputs": [],
   "source": [
    "slab = fcc111('Ni', a=3.4627689236249095, size=(3,3,5))\n",
    "slab.center(vacuum=7, axis=2)\n",
    "add_adsorbate(slab, 'H', 7, (0.36945,   0.00000))\n",
    "add_adsorbate(slab, 'H', 7, (6.97619,   0.00000))\n",
    "write('Ni111_gp.vasp', slab,  direct=True,  vasp5=True)"
   ]
  },
  {
   "cell_type": "code",
   "execution_count": 66,
   "id": "cf6bb0cd-25f6-485e-b68d-84ab5905a113",
   "metadata": {},
   "outputs": [],
   "source": [
    "slab = fcc111('Ni', a=3.4627689236249095, size=(3,3,5))\n",
    "slab.center(vacuum=7, axis=2)\n",
    "add_adsorbate(slab, 'H', 1.1, ( 0.37540,   0.00000))\n",
    "add_adsorbate(slab, 'H', 1.1, (6.97619,   0.00000))\n",
    "write('Ni111_ts.vasp', slab,  direct=True,  vasp5=True)"
   ]
  },
  {
   "cell_type": "code",
   "execution_count": 70,
   "id": "3e3f4242-5fbc-46ae-8135-75211af3d46c",
   "metadata": {},
   "outputs": [],
   "source": [
    "slab = fcc211('Ni', a=3.4627689236249095, size=(3,3,4))\n",
    "slab.center(vacuum=9, axis=2)\n",
    "atoms = molecule('CH4')\n",
    "atoms.rotate(45, 'yz', center=(0, 0, 0))\n",
    "atoms.rotate(45, 'x', center=(0, 0, 0))\n",
    "add_adsorbate(slab, atoms, 8, ( 3.99846,   3.67282))\n",
    "write('Ni211_ch4_gp.vasp', slab,  direct=True,  vasp5=True)"
   ]
  },
  {
   "cell_type": "code",
   "execution_count": 71,
   "id": "7cb89082-7029-4ba0-8951-a48bd03d8525",
   "metadata": {},
   "outputs": [],
   "source": [
    "slab = fcc211('Ni', a=3.4627689236249095, size=(3,3,4))\n",
    "slab.center(vacuum=9, axis=2)\n",
    "atoms = molecule('CH3')\n",
    "atoms.rotate(45, 'z', center=(0, 0, 0))\n",
    "add_adsorbate(slab, atoms, 2., ( 3.99846,   3.67282))\n",
    "add_adsorbate(slab, 'H', 1.2, ( 4.08497,   4.82764))\n",
    "write('Ni211_ch4_ts.vasp', slab,  direct=True,  vasp5=True)"
   ]
  },
  {
   "cell_type": "code",
   "execution_count": 73,
   "id": "28c4250d-77bd-4451-852e-6c6a75d4c91f",
   "metadata": {},
   "outputs": [],
   "source": [
    "slab = fcc111('Pt', a=3.8816131011380670, size=(3,3,5))\n",
    "slab.center(vacuum=7, axis=2)\n",
    "atoms = molecule('CH4')\n",
    "atoms.rotate(45, 'yz', center=(0, 0, 0))\n",
    "atoms.rotate(45, 'x', center=(0, 0, 0))\n",
    "add_adsorbate(slab, atoms, 7, (4.11707,   2.37699))\n",
    "write('Pt111_ch4_gp.vasp', slab,  direct=True,  vasp5=True)"
   ]
  },
  {
   "cell_type": "code",
   "execution_count": 75,
   "id": "0c84c8f3-ae92-4171-9397-454dd818d50d",
   "metadata": {},
   "outputs": [],
   "source": [
    "slab = fcc111('Pt', a=3.8816131011380670, size=(3,3,5))\n",
    "slab.center(vacuum=7, axis=2)\n",
    "atoms = molecule('CH3')\n",
    "atoms.rotate(45, 'z', center=(0, 0, 0))\n",
    "add_adsorbate(slab, atoms, 2.1, ( 4.19163,   2.40814))\n",
    "add_adsorbate(slab, 'H', 1.2, (  5.28773,   2.43858))\n",
    "write('Pt111_ch4_ts.vasp', slab,  direct=True,  vasp5=True)"
   ]
  },
  {
   "cell_type": "code",
   "execution_count": 76,
   "id": "2cafe249-e06c-4ade-8eea-71d3af66425d",
   "metadata": {},
   "outputs": [],
   "source": [
    "slab = fcc111('Pt', a=3.8816131011380670, size=(3,3,5))\n",
    "slab.center(vacuum=7, axis=2)\n",
    "add_adsorbate(slab, 'H', 7, (0.36589,   0.00000))\n",
    "add_adsorbate(slab, 'H', 7, (7.86825,   0.00000))\n",
    "write('Pt111_gp.vasp', slab,  direct=True,  vasp5=True)"
   ]
  },
  {
   "cell_type": "code",
   "execution_count": 77,
   "id": "c003c2c3-b265-46aa-942a-0fbe83959250",
   "metadata": {},
   "outputs": [],
   "source": [
    "slab = fcc111('Pt', a=3.8816131011380670, size=(3,3,5))\n",
    "slab.center(vacuum=7, axis=2)\n",
    "add_adsorbate(slab, 'H',2.5, (0.37489,   0.00000))\n",
    "add_adsorbate(slab, 'H', 2.5, (7.86825,   0.00000))\n",
    "write('Pt111_ts.vasp', slab,  direct=True,  vasp5=True)"
   ]
  },
  {
   "cell_type": "code",
   "execution_count": 80,
   "id": "da3d0024-311b-4b5f-9183-b541e56a8f48",
   "metadata": {},
   "outputs": [],
   "source": [
    "slab = fcc211('Pt', a=3.8816131011380670, size=(3,3,4))\n",
    "slab.center(vacuum=7, axis=2)\n",
    "atoms = molecule('CH4')\n",
    "atoms.rotate(45, 'yz', center=(0, 0, 0))\n",
    "atoms.rotate(45, 'x', center=(0, 0, 0))\n",
    "add_adsorbate(slab, atoms, 6.75, (4.48210,   4.11707))\n",
    "write('Pt211_ch4_gp.vasp', slab,  direct=True,  vasp5=True)"
   ]
  },
  {
   "cell_type": "code",
   "execution_count": 81,
   "id": "ad8f0b38-7cb0-4bdb-9087-b20db46727c9",
   "metadata": {},
   "outputs": [],
   "source": [
    "slab = fcc211('Pt', a=3.8816131011380670, size=(3,3,4))\n",
    "slab.center(vacuum=7, axis=2)\n",
    "atoms = molecule('CH3')\n",
    "atoms.rotate(45, 'z', center=(0, 0, 0))\n",
    "add_adsorbate(slab, atoms, 2., ( 4.35299,   4.19010))\n",
    "add_adsorbate(slab, 'H', 1.2, ( 4.44376,   5.27946))\n",
    "write('Pt211_ch4_ts.vasp', slab,  direct=True,  vasp5=True)"
   ]
  },
  {
   "cell_type": "code",
   "execution_count": 84,
   "id": "8958c34e-75e9-4a18-bc70-63a48ded6cc6",
   "metadata": {},
   "outputs": [],
   "source": [
    "slab = fcc211('Pt', a=3.8816131011380670, size=(3,3,5))\n",
    "slab.center(vacuum=8, axis=2)\n",
    "add_adsorbate(slab, 'H', 8, (4.48210,   4.48297))\n",
    "add_adsorbate(slab, 'H', 8, (4.48210,   3.75118))\n",
    "write('Pt211_gp.vasp', slab,  direct=True,  vasp5=True)"
   ]
  },
  {
   "cell_type": "code",
   "execution_count": 85,
   "id": "24102ddb-d3c0-4ace-b546-55f37fb84627",
   "metadata": {},
   "outputs": [],
   "source": [
    "slab = fcc211('Pt', a=3.8816131011380670, size=(3,3,5))\n",
    "slab.center(vacuum=8, axis=2)\n",
    "add_adsorbate(slab, 'H', 2.5, (4.48210,   4.48297))\n",
    "add_adsorbate(slab, 'H', 2.5, (4.48210,   3.75118))\n",
    "write('Pt211_ts.vasp', slab,  direct=True,  vasp5=True)"
   ]
  },
  {
   "cell_type": "code",
   "execution_count": 87,
   "id": "c6170807-9196-447a-a13c-909167b1f3c9",
   "metadata": {},
   "outputs": [],
   "source": [
    "slab = hcp0001('Ru', a=2.69104, c=4.24546, size=(3,3,5))\n",
    "slab.center(vacuum=8, axis=2)\n",
    "atoms = molecule('CH4')\n",
    "atoms.rotate(45, 'yz', center=(0, 0, 0))\n",
    "atoms.rotate(45, 'x', center=(0, 0, 0))\n",
    "add_adsorbate(slab, atoms, 7.8, (4.03656,   2.335807))\n",
    "write('Ru0001_ch4_gp.vasp', slab,  direct=True,  vasp5=True)"
   ]
  },
  {
   "cell_type": "code",
   "execution_count": 88,
   "id": "445a9b8b-89e1-4b9e-af2b-150e6a73c9f2",
   "metadata": {},
   "outputs": [],
   "source": [
    "slab = hcp0001('Ru', a=2.69104, c=4.24546, size=(3,3,5))\n",
    "slab.center(vacuum=8, axis=2)\n",
    "atoms = molecule('CH3')\n",
    "atoms.rotate(45, 'z', center=(0, 0, 0))\n",
    "add_adsorbate(slab, atoms, 2.2, ( 4.03371,   2.37232))\n",
    "add_adsorbate(slab, 'H', 1.2, ( 3.04718,   2.92806))\n",
    "write('Ru0001_ch4_ts.vasp', slab,  direct=True,  vasp5=True)"
   ]
  },
  {
   "cell_type": "code",
   "execution_count": 90,
   "id": "3078be6b-b9e3-49cc-ac38-9833da94054d",
   "metadata": {},
   "outputs": [],
   "source": [
    "slab = hcp0001('Ru', a=2.69104, c=4.24546, size=(3,3,5))\n",
    "slab.center(vacuum=7, axis=2)\n",
    "add_adsorbate(slab, 'H',6.8, (0.37118 ,  0.00000))\n",
    "add_adsorbate(slab, 'H', 6.8, (7.70194,   0.00000))\n",
    "write('Ru0001_gp.vasp', slab,  direct=True,  vasp5=True)"
   ]
  },
  {
   "cell_type": "code",
   "execution_count": 91,
   "id": "2275d23e-c4e3-415a-98a8-f62cd3728efc",
   "metadata": {},
   "outputs": [],
   "source": [
    "slab = hcp0001('Ru', a=2.69104, c=4.24546, size=(3,3,5))\n",
    "slab.center(vacuum=7, axis=2)\n",
    "add_adsorbate(slab, 'H',3, (0.37419,   0.00000))\n",
    "add_adsorbate(slab, 'H', 3, (7.69893,   0.00000))\n",
    "write('Ru0001_ts.vasp', slab,  direct=True,  vasp5=True)"
   ]
  },
  {
   "cell_type": "code",
   "execution_count": 96,
   "id": "8888a830-a471-444a-a282-29d732803c54",
   "metadata": {},
   "outputs": [],
   "source": [
    "slab = hcp0001('Ru', a=2.69104, c=4.24546, size=(3,3,7))\n",
    "slab.center(vacuum=6.5, axis=2)\n",
    "add_adsorbate(slab, 'N',6.5, (5.56585,   3.36888))\n",
    "add_adsorbate(slab, 'N', 6.5, (6.53346,   3.92753))\n",
    "write('Ru0001_n2_gp.vasp', slab,  direct=True,  vasp5=True)"
   ]
  },
  {
   "cell_type": "code",
   "execution_count": 97,
   "id": "2d401a3d-616c-445d-9864-baec5a6ced64",
   "metadata": {},
   "outputs": [],
   "source": [
    "slab = hcp0001('Ru', a=2.69104, c=4.24546, size=(3,3,7))\n",
    "slab.center(vacuum=6.5, axis=2)\n",
    "add_adsorbate(slab, 'N',1.35, (5.10135,   3.42122))\n",
    "add_adsorbate(slab, 'N', 1.35, (6.76293,   3.80994))\n",
    "write('Ru0001_n2_ts.vasp', slab,  direct=True,  vasp5=True)"
   ]
  },
  {
   "cell_type": "code",
   "execution_count": 116,
   "id": "70a018a7-8242-4094-ae59-9211c4682ba2",
   "metadata": {},
   "outputs": [],
   "source": [
    "slab = hcp10m10('Ru', a=2.69104, c=4.24546, size=(2,4,6))\n",
    "slab.center(vacuum=8, axis=2)\n",
    "add_adsorbate(slab, 'N',8, (1.57155,   2.13020))\n",
    "add_adsorbate(slab, 'N', 8, (1.57155,   1.01290))\n",
    "write('Ru1010_n2_gp.vasp', slab,  direct=True,  vasp5=True)"
   ]
  },
  {
   "cell_type": "code",
   "execution_count": 117,
   "id": "18216937-aa0f-4bae-a772-b8263b14f351",
   "metadata": {},
   "outputs": [],
   "source": [
    "slab = hcp10m10('Ru', a=2.69104, c=4.24546, size=(2,4,6))\n",
    "slab.center(vacuum=8, axis=2)\n",
    "add_adsorbate(slab, 'N',0.2, (1.36700,   2.55133))\n",
    "add_adsorbate(slab, 'N', 0.2, (1.36700,   1.07035))\n",
    "write('Ru1010_n2_ts.vasp', slab,  direct=True,  vasp5=True)"
   ]
  },
  {
   "cell_type": "code",
   "execution_count": null,
   "id": "0d3c58af-e07d-48fe-aff0-5fde1da702b5",
   "metadata": {},
   "outputs": [],
   "source": []
  }
 ],
 "metadata": {
  "kernelspec": {
   "display_name": "Python 3 (ipykernel)",
   "language": "python",
   "name": "python3"
  },
  "language_info": {
   "codemirror_mode": {
    "name": "ipython",
    "version": 3
   },
   "file_extension": ".py",
   "mimetype": "text/x-python",
   "name": "python",
   "nbconvert_exporter": "python",
   "pygments_lexer": "ipython3",
   "version": "3.9.18"
  }
 },
 "nbformat": 4,
 "nbformat_minor": 5
}
